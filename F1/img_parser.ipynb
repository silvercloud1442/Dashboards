{
 "cells": [
  {
   "cell_type": "code",
   "execution_count": 3,
   "id": "aed61036-97ac-43f3-94e7-3e58dae014f3",
   "metadata": {},
   "outputs": [
    {
     "name": "stdout",
     "output_type": "stream",
     "text": [
      "races\n"
     ]
    },
    {
     "name": "stderr",
     "output_type": "stream",
     "text": [
      "100%|██████████████████████████████████████████████████████████████████████████████| 1079/1079 [13:28<00:00,  1.33it/s]\n"
     ]
    }
   ],
   "source": [
    "import pandas as pd\n",
    "import requests\n",
    "from bs4 import BeautifulSoup\n",
    "\n",
    "from tqdm import tqdm\n",
    "tqdm.pandas()\n",
    "\n",
    "files = ['races']\n",
    "\n",
    "def get_img_src(url):\n",
    "    try:\n",
    "        html = requests.get(url)\n",
    "        soup = BeautifulSoup(html.text, 'html.parser')\n",
    "        return f\"http:{soup.find('table', class_='infobox').find('tbody').find('img').get('src')}\"\n",
    "    except:\n",
    "        return ''\n",
    "\n",
    "for i in files:\n",
    "    print(i)\n",
    "    df = pd.read_csv(f'{i}.csv')\n",
    "    urls = df.url\n",
    "    df['img_urls'] = df.url.progress_apply(get_img_src)\n",
    "    df.to_csv(f'{i}.csv')\n",
    "\n",
    "\n",
    "\n",
    "\n",
    "\n",
    "\n",
    "\n",
    "\n",
    "\n",
    "\n",
    "\n",
    "\n",
    "\n",
    "\n",
    "\n",
    "\n",
    "\n",
    "\n",
    "\n",
    "\n",
    "\n",
    "\n",
    "\n",
    "\n"
   ]
  },
  {
   "cell_type": "code",
   "execution_count": null,
   "id": "1b6874ae-be30-4b8e-97bf-c5dcd6ddfd7c",
   "metadata": {},
   "outputs": [
    {
     "name": "stderr",
     "output_type": "stream",
     "text": [
      "Processing circuits:   4%|██▍                                                           | 3/76 [00:00<00:19,  3.79it/s]C:\\Users\\train\\AppData\\Local\\Programs\\Python\\Python311\\Lib\\site-packages\\bs4\\builder\\_htmlparser.py:116: RuntimeWarning: coroutine 'main' was never awaited\n",
      "  for key, value in attrs:\n",
      "RuntimeWarning: Enable tracemalloc to get the object allocation traceback\n",
      "Processing circuits: 100%|█████████████████████████████████████████████████████████████| 76/76 [00:14<00:00,  5.29it/s]\n",
      "Processing drivers: 100%|███████████████████████████████████████████████████████████▉| 853/854 [01:37<00:00, 10.12it/s]"
     ]
    }
   ],
   "source": [
    "import asyncio\n",
    "import aiohttp\n",
    "import pandas as pd\n",
    "from bs4 import BeautifulSoup\n",
    "from tqdm import tqdm\n",
    "import nest_asyncio\n",
    "nest_asyncio.apply()\n",
    "\n",
    "files = ['circuits', 'drivers', 'constructors']\n",
    "\n",
    "async def get_img_src(session: aiohttp.ClientSession, url: str) -> str:\n",
    "    \"\"\"\n",
    "    Асинхронно получает HTML-страницу по URL, парсит её с помощью BeautifulSoup,\n",
    "    находит первый тег <img> в таблице с классом \"infobox\" и возвращает его URL.\n",
    "    \"\"\"\n",
    "    try:\n",
    "        async with session.get(url) as response:\n",
    "            html = await response.text()\n",
    "            soup = BeautifulSoup(html, 'html.parser')\n",
    "            # Если структура страницы может быть иной, рекомендуется добавить проверки\n",
    "            table = soup.find('table', class_='infobox')\n",
    "            if table is None:\n",
    "                return None\n",
    "            tbody = table.find('tbody')\n",
    "            if tbody is None:\n",
    "                return None\n",
    "            img_tag = tbody.find('img')\n",
    "            if img_tag is None:\n",
    "                return None\n",
    "            src = img_tag.get('src')\n",
    "            return f\"http:{src}\" if src else None\n",
    "    except Exception as e:\n",
    "        # Можно залогировать ошибку или вернуть None\n",
    "        return None\n",
    "\n",
    "async def get_img_src_with_progress(session: aiohttp.ClientSession, url: str, pbar: tqdm) -> str:\n",
    "    \"\"\"\n",
    "    Обёртка для get_img_src, которая обновляет прогресс-бар после завершения запроса.\n",
    "    \"\"\"\n",
    "    result = await get_img_src(session, url)\n",
    "    pbar.update(1)\n",
    "    return result\n",
    "\n",
    "async def process_file(file: str):\n",
    "    \"\"\"\n",
    "    Загружает данные из CSV, асинхронно обрабатывает все URL-адреса и сохраняет результат обратно в CSV.\n",
    "    \"\"\"\n",
    "    df = pd.read_csv(f'{file}.csv')\n",
    "    async with aiohttp.ClientSession() as session:\n",
    "        # Инициализируем tqdm для отслеживания прогресса по количеству URL в DataFrame\n",
    "        with tqdm(total=len(df), desc=f\"Processing {file}\") as pbar:\n",
    "            # Создаём задачи для каждого URL с обёрткой, обновляющей прогресс-бар\n",
    "            tasks = [\n",
    "                get_img_src_with_progress(session, url, pbar)\n",
    "                for url in df['url']\n",
    "            ]\n",
    "            # Запускаем все задачи параллельно\n",
    "            results = await asyncio.gather(*tasks)\n",
    "    df['img_urls'] = results\n",
    "    df.to_csv(f'{file}.csv', index=False)\n",
    "\n",
    "async def main():\n",
    "    # Обрабатываем файлы последовательно; если нужно, можно запустить их параллельно:\n",
    "    for file in files:\n",
    "        await process_file(file)\n",
    "\n",
    "if __name__ == '__main__':\n",
    "    loop = asyncio.get_event_loop()\n",
    "    loop.run_until_complete(main())\n"
   ]
  },
  {
   "cell_type": "code",
   "execution_count": null,
   "id": "da13a4f1-a5b3-49ab-9ae0-a8ce05b5a2a6",
   "metadata": {},
   "outputs": [],
   "source": []
  }
 ],
 "metadata": {
  "kernelspec": {
   "display_name": "Python 3 (ipykernel)",
   "language": "python",
   "name": "python3"
  },
  "language_info": {
   "codemirror_mode": {
    "name": "ipython",
    "version": 3
   },
   "file_extension": ".py",
   "mimetype": "text/x-python",
   "name": "python",
   "nbconvert_exporter": "python",
   "pygments_lexer": "ipython3",
   "version": "3.11.4"
  }
 },
 "nbformat": 4,
 "nbformat_minor": 5
}
